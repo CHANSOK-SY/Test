{
 "cells": [
  {
   "cell_type": "code",
   "execution_count": 2,
   "id": "9c891e48-af8e-430d-be33-e9f87bf47f12",
   "metadata": {},
   "outputs": [
    {
     "name": "stdout",
     "output_type": "stream",
     "text": [
      "Hello me\n"
     ]
    }
   ],
   "source": [
    "print(\"Hello me\")"
   ]
  },
  {
   "cell_type": "code",
   "execution_count": null,
   "id": "fe985af0-6acb-442c-9985-4a8c311c3a54",
   "metadata": {},
   "outputs": [],
   "source": []
  }
 ],
 "metadata": {
  "kernelspec": {
   "display_name": "Python 3 (ipykernel)",
   "language": "python",
   "name": "python3"
  },
  "language_info": {
   "codemirror_mode": {
    "name": "ipython",
    "version": 3
   },
   "file_extension": ".py",
   "mimetype": "text/x-python",
   "name": "python",
   "nbconvert_exporter": "python",
   "pygments_lexer": "ipython3",
   "version": "3.12.4"
  }
 },
 "nbformat": 4,
 "nbformat_minor": 5
}
